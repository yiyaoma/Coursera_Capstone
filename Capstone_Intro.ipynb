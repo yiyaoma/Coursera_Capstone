{
 "cells": [
  {
   "cell_type": "markdown",
   "metadata": {},
   "source": [
    "# Battle of the Neighborhoods - Which place(s) should I choose?"
   ]
  },
  {
   "cell_type": "markdown",
   "metadata": {},
   "source": [
    "## A. Introduction/Business Problem"
   ]
  },
  {
   "cell_type": "markdown",
   "metadata": {},
   "source": [
    "Jack Ma is currently renting an apartment in Manhattan's Chinatown in New York City. Recently he is considering buying a house in Queens. However, he really enjoys his neighborhood, mainly because of many great amenities and other types of venues that exist in the neighborhood, such as Chinese Restaurant, American Restaurant, and so on. As you can tell he likes living around many restaurants because he is too busy to cooking. It would be great if we can help him determine neighborhoods on the other side of the city that are similar to his current neighborhood.\n",
    "\n",
    "**So the problem is --- Which neighborhood(s) in Queens is(are) similar to Chinatown, NY?**\n",
    "\n",
    "We will leverage the **Foursquare location data** to explore or compare *Chinatown NY* and *the neighborhoods of Queens*, use the **k-means clustering algorithm** to find the similar neighborhood(s), and finally use the **Folium library** to visualize the neighborhoods and their emerging clusters."
   ]
  },
  {
   "cell_type": "code",
   "execution_count": null,
   "metadata": {},
   "outputs": [],
   "source": []
  }
 ],
 "metadata": {
  "kernelspec": {
   "display_name": "Python 3",
   "language": "python",
   "name": "python3"
  },
  "language_info": {
   "codemirror_mode": {
    "name": "ipython",
    "version": 3
   },
   "file_extension": ".py",
   "mimetype": "text/x-python",
   "name": "python",
   "nbconvert_exporter": "python",
   "pygments_lexer": "ipython3",
   "version": "3.6.5"
  }
 },
 "nbformat": 4,
 "nbformat_minor": 2
}
