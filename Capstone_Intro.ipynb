{
 "cells": [
  {
   "cell_type": "markdown",
   "metadata": {},
   "source": [
    "# Battle of the Neighborhoods - Which place(s) should I choose?"
   ]
  },
  {
   "cell_type": "markdown",
   "metadata": {},
   "source": [
    "## A. Introduction/Business Problem"
   ]
  },
  {
   "cell_type": "markdown",
   "metadata": {},
   "source": [
    "Jack Lee is currently living in **Flushing, Queens, New York City**. Recently he received a job offer from a great company in **Manhattan** with great career prospects. To make life easier, he wants to move to Manhattan to get rid of the annoying traffic. However, he really enjoys his neighborhood in Flushing, mainly because of many great amenities and other types of venues that exist in the neighborhood, such as various kinds of restaurants, bakery shop and so on. It would be great if we can help him determine neighborhoods on the other side of the city that are **similar to his current neighborhood**.\n",
    "\n",
    "In the meantime, Jack has another requirement - he wants to **rent a studio in a neighborhood that has the lowest average rental price** as he just graduated and has to pay back student loans, so he needs to be frugal. "
   ]
  },
  {
   "cell_type": "markdown",
   "metadata": {},
   "source": [
    "#### **So the problem is --- Which neighborhood in Manhattan is similar to Flushing, Queens, NYC and has the lowest average rent for a studio?**\n",
    "\n",
    "**Who would be interested in this project --- This project not only provides immediate help to Jack Lee on deciding which place to live based on his requirements, but also can serve as a template to help people compare the similarities of different neighborhoods/cities and select the result(s) based on certain criteria.**"
   ]
  },
  {
   "cell_type": "code",
   "execution_count": null,
   "metadata": {},
   "outputs": [],
   "source": []
  }
 ],
 "metadata": {
  "kernelspec": {
   "display_name": "Python 3",
   "language": "python",
   "name": "python3"
  },
  "language_info": {
   "codemirror_mode": {
    "name": "ipython",
    "version": 3
   },
   "file_extension": ".py",
   "mimetype": "text/x-python",
   "name": "python",
   "nbconvert_exporter": "python",
   "pygments_lexer": "ipython3",
   "version": "3.6.5"
  }
 },
 "nbformat": 4,
 "nbformat_minor": 2
}
