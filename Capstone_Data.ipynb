{
 "cells": [
  {
   "cell_type": "markdown",
   "metadata": {},
   "source": [
    "# Battle of the Neighborhoods - Which place(s) should I choose?"
   ]
  },
  {
   "cell_type": "markdown",
   "metadata": {},
   "source": [
    "## B. Data"
   ]
  },
  {
   "cell_type": "markdown",
   "metadata": {},
   "source": [
    "### 1. Geographic Data"
   ]
  },
  {
   "cell_type": "markdown",
   "metadata": {},
   "source": [
    "We will analyze and compare Flushing and the neighborhoods in Manhattan. In order to segement the neighborhoods and explore them, we will essentially need a dataset that contains Flushing, Queens and the neighborhoods that exist in Manhattan as well as the latitude and longitude coordinates of each neighborhood. The dataset will also be used to create Maps.\n",
    "\n",
    "The link to the dataset: https://geo.nyu.edu/catalog/nyu_2451_34572 .\n",
    "The files can be downloaded from IBM Cloud by run a `wget` command. And then do some data wrangling and transform the data into dataframe with 4 columns:\n",
    "**['Borough', 'Neighborhood', 'Latitude', 'Longitude']**"
   ]
  },
  {
   "cell_type": "markdown",
   "metadata": {},
   "source": [
    "### 2. Foursquare Location Data"
   ]
  },
  {
   "cell_type": "markdown",
   "metadata": {},
   "source": [
    "The Foursquare location data will be used to explore the neighborhoods and segment them into clusters so that we can find the similar neighborhoods.\n",
    "\n",
    "We use Foursquare API to get top 100 venues that are in Flushing and the neighborhoods in Manhattan within a radius of 500 meters, and transform the data into dataframe with 7 columns: \n",
    "**[‘Neighborhood', ‘Neighborhood Latitude', ‘Neighborhood Longitude', ‘Venue’, ‘Venue Latitude', ‘Venue Longitude', ‘Venue Category’]**\n",
    "\n",
    "Analyze each neighborhood by one hot encoding, grouping rows by neighborhood and taking the mean of the frequency of occurrence of each ‘Venue Category’, and then run k-means to cluster the neighborhood into clusters."
   ]
  },
  {
   "cell_type": "markdown",
   "metadata": {},
   "source": [
    "### 3. Rent Data"
   ]
  },
  {
   "cell_type": "markdown",
   "metadata": {},
   "source": [
    "Average Rent Data in Manhattan, NY by neighborhood from online sources: https://www.rentcafe.com/average-rent-market-trends/us/ny/manhattan/\n",
    "The dataset includes average rent data for “Studio”, “1-bedroom”, “2-bedrooms”, “3-bedrooms” and “All-rentals” in Manhattan by neighborhood. We do web Scraping and transform data into a dataframe. As we only need 'Studio Rent' data for analysis, the dataframe only has 2 columns: **[‘Neighborhood', 'Studio Rent']**.\n",
    "\n",
    "The 'Studio Rent' data will be used as a criteria to rank the similar neighborhood(s) and therefore returned the result with the lowest average 'Studio Rent' price."
   ]
  },
  {
   "cell_type": "code",
   "execution_count": null,
   "metadata": {},
   "outputs": [],
   "source": []
  }
 ],
 "metadata": {
  "kernelspec": {
   "display_name": "Python 3",
   "language": "python",
   "name": "python3"
  },
  "language_info": {
   "codemirror_mode": {
    "name": "ipython",
    "version": 3
   },
   "file_extension": ".py",
   "mimetype": "text/x-python",
   "name": "python",
   "nbconvert_exporter": "python",
   "pygments_lexer": "ipython3",
   "version": "3.6.5"
  }
 },
 "nbformat": 4,
 "nbformat_minor": 2
}
