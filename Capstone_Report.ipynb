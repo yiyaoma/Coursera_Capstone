{
 "cells": [
  {
   "cell_type": "markdown",
   "metadata": {},
   "source": [
    "# Battle of the Neighborhoods - Which place should I choose?\n",
    "### --- Report"
   ]
  },
  {
   "cell_type": "markdown",
   "metadata": {},
   "source": [
    "### Table of Contents\n",
    "- A. Introduction/Business Problem\n",
    "- B. Data\n",
    "- C. Method\n",
    "- D. Results\n",
    "- E. Discussion\n",
    "- F. Conclusion"
   ]
  },
  {
   "cell_type": "markdown",
   "metadata": {},
   "source": [
    "## A. Introduction/Business Problem"
   ]
  },
  {
   "cell_type": "markdown",
   "metadata": {},
   "source": [
    "Jack Lee is currently living in **Flushing, Queens, New York City**. Recently he received a job offer from a great company in **Manhattan** with great career prospects. To make life easier, he wants to move to Manhattan to get rid of the annoying traffic. However, he really enjoys his neighborhood in Flushing, mainly because of many great amenities and other types of venues that exist in the neighborhood, such as various kinds of restaurants, bakery shop and so on. It would be great if we can help him determine neighborhoods on the other side of the city that are **similar to his current neighborhood**.\n",
    "\n",
    "In the meantime, Jack has another requirement - he wants to **rent a studio in a neighborhood that has the lowest average rental price** as he just graduated and has to pay back student loans, so he needs to be frugal. "
   ]
  },
  {
   "cell_type": "markdown",
   "metadata": {},
   "source": [
    "#### **So the problem is --- Which neighborhood in Manhattan is similar to Flushing, Queens, NYC and has the lowest average rent for a studio?**\n",
    "\n",
    "**Who would be interested in this project ---** This project not only provides immediate help to Jack Lee on deciding which place to live based on his requirements, but also can serve as a template to help people compare the similarities of different neighborhoods/cities and select the result(s) based on certain criteria."
   ]
  },
  {
   "cell_type": "markdown",
   "metadata": {},
   "source": [
    "## B. Data"
   ]
  },
  {
   "cell_type": "markdown",
   "metadata": {},
   "source": [
    "### 1. Geographic Data"
   ]
  },
  {
   "cell_type": "markdown",
   "metadata": {},
   "source": [
    "We will analyze and compare Flushing and the neighborhoods in Manhattan. In order to segement the neighborhoods and explore them, we will essentially need a dataset that contains Flushing, Queens and the neighborhoods that exist in Manhattan as well as the latitude and longitude coordinates of each neighborhood. The dataset will also be used to create Maps.\n",
    "\n",
    "The link to the dataset: https://geo.nyu.edu/catalog/nyu_2451_34572 \n",
    "The files can be downloaded from IBM Cloud by run a `wget` command. And then do some data wrangling and transform the data into dataframe with 4 columns:\n",
    "**['Borough', 'Neighborhood', 'Latitude', 'Longitude']**"
   ]
  },
  {
   "cell_type": "markdown",
   "metadata": {},
   "source": [
    "![geo_data](https://raw.githubusercontent.com/yiyaoma/Coursera_Capstone/master/geo_data.png)"
   ]
  },
  {
   "cell_type": "markdown",
   "metadata": {},
   "source": [
    "### 2. Foursquare Location Data"
   ]
  },
  {
   "cell_type": "markdown",
   "metadata": {},
   "source": [
    "The Foursquare location data will be used to explore the neighborhoods and segment them into clusters so that we can find the similar neighborhoods.\n",
    "\n",
    "We use Foursquare API to get top 100 venues that are in Flushing and the neighborhoods in Manhattan within a radius of 500 meters, and transform the data into dataframe with 7 columns: \n",
    "**[‘Neighborhood', ‘Neighborhood Latitude', ‘Neighborhood Longitude', ‘Venue’, ‘Venue Latitude', ‘Venue Longitude', ‘Venue Category’]**\n",
    "\n",
    "Analyze each neighborhood by one hot encoding, grouping rows by neighborhood and taking the mean of the frequency of occurrence of each ‘Venue Category’, and then run k-means to cluster the neighborhood into clusters."
   ]
  },
  {
   "cell_type": "markdown",
   "metadata": {},
   "source": [
    "### 3. Rent Data"
   ]
  },
  {
   "cell_type": "markdown",
   "metadata": {},
   "source": [
    "Average Rent Data in Manhattan, NY by neighborhood from online sources: https://www.rentcafe.com/average-rent-market-trends/us/ny/manhattan/\n",
    "The dataset includes average rent data for “Studio”, “1-bedroom”, “2-bedrooms”, “3-bedrooms” and “All-rentals” in Manhattan by neighborhood. We do web Scraping and transform data into a dataframe. As we only need 'Studio Rent' data for analysis, the dataframe only has 2 columns: **[‘Neighborhood', 'Studio Rent']**.\n",
    "\n",
    "The 'Studio Rent' data will be used as a criteria to rank the similar neighborhood(s) and therefore returned the result with the lowest average 'Studio Rent' price."
   ]
  },
  {
   "cell_type": "markdown",
   "metadata": {},
   "source": [
    "![rent_data](https://raw.githubusercontent.com/yiyaoma/Coursera_Capstone/master/rent_data.png)"
   ]
  },
  {
   "cell_type": "markdown",
   "metadata": {},
   "source": [
    "## C. Methodology"
   ]
  },
  {
   "cell_type": "markdown",
   "metadata": {},
   "source": [
    "We will leverage the **Foursquare location data** to explore or compare **Flushing, Queens, NYC** and **the neighborhoods of Manhattan**, use the **k-means clustering algorithm** to find the similar neighborhood(s) - neighborhoods in Manhattan that are in the same cluster as Flushing, use the **Folium library** to visualize the neighborhoods and their emerging clusters, and finally apply **Beautifulsoup library** to extract the **average rent data** in Manhattan by neighborhood from online sources to find the similar neighborhoods in Manhattan that has the lowest average rent for a studio.\n",
    "\n",
    "### What machine learnings were used and why?\n",
    "We use **k-means clustering** method. **K-means** is vastly used for clustering in many data science applications, especially useful if you need to quickly discover insights from unlabeled data.\n",
    "\n",
    "### Detailed exploratory data analysis and statistical testing methods are shown below:"
   ]
  },
  {
   "cell_type": "markdown",
   "metadata": {},
   "source": [
    "### 1. Download and Explore Dataset"
   ]
  },
  {
   "cell_type": "markdown",
   "metadata": {},
   "source": [
    "#### (1) Rent Data. \n",
    "- Use **BeautifulSoup library** to extract Average Rent Data in Manhattan, NY by neighborhood from website. "
   ]
  },
  {
   "cell_type": "code",
   "execution_count": 1,
   "metadata": {},
   "outputs": [],
   "source": [
    "#website_url = urllib.request.urlopen('https://www.rentcafe.com/average-rent-market-trends/us/ny/manhattan/').read()\n",
    "#soup = bs.BeautifulSoup(website_url,'lxml')\n",
    "#mytable = soup.find('table',{'class':'market-trends', 'id':'MarketTrendsAverageRentTable'})\n",
    "#mytable"
   ]
  },
  {
   "cell_type": "markdown",
   "metadata": {},
   "source": [
    "- Use **findAll('th')** and **find_all('tr')** to get  Neighborhood from table headers and Studio Rent from table rows.\n",
    "- Create DataFrame consisting Neighborhoods and their average Studio Rent price.\n",
    "- Data Wrangling: use **.str.replace() method** to delete ',' and '$', and use **.astype(int) method** to convert string to integer."
   ]
  },
  {
   "cell_type": "code",
   "execution_count": 2,
   "metadata": {},
   "outputs": [],
   "source": [
    "# get Neighborhood from table headers\n",
    "#table_headers = [th.getText() for th in mytable.findAll('th')]\n",
    "#table_headers_neigh = table_headers[7:]\n",
    "#df_col_neigh = pd.DataFrame({'Neighborhood':table_headers_neigh})\n",
    "\n",
    "# get Studio Rent from table rows\n",
    "#table_data = []\n",
    "#table_rows = mytable.find_all('tr')\n",
    "#for tr in table_rows:\n",
    "#    td = tr.find_all('td')\n",
    "#    row = [i.text for i in td]\n",
    "#    table_data.append(row)\n",
    "# dataframe consists of five columns: All rentals, Studio Rent, 1 Bed , 2 Beds, and 3 Beds\n",
    "#df_data = pd.DataFrame(table_data,columns=['All rentals','Studio Rent','1 Bed','2 Beds','3 Beds'])\n",
    "#df_data.drop([0,1],inplace=True)\n",
    "# only keep 'Studio Rent' column\n",
    "#df_data.drop(columns = ['All rentals','1 Bed','2 Beds','3 Beds'], inplace=True)\n",
    "#df_data.reset_index(drop=True, inplace=True)\n",
    "#df_data['Studio Rent'] = df_data['Studio Rent'].str.replace(',', '')\n",
    "#df_data['Studio Rent'] = df_data['Studio Rent'].str.replace('$', '')\n",
    "#df_data['Studio Rent'] = df_data['Studio Rent'].astype(int)\n",
    "\n",
    "# Create DataFrame consisting Neighborhoods and their average Studio Rent price\n",
    "#df_rent = pd.concat([df_col_neigh, df_data], axis=1)\n",
    "#df_rent"
   ]
  },
  {
   "cell_type": "markdown",
   "metadata": {},
   "source": [
    "#### (2) Geographic Data.\n",
    "- Run  a `wget` command to download data from IBM Cloud. "
   ]
  },
  {
   "cell_type": "code",
   "execution_count": 3,
   "metadata": {},
   "outputs": [],
   "source": [
    "#!wget -q -O 'newyork_data.json' https://ibm.box.com/shared/static/fbpwbovar7lf8p5sgddm06cgipa2rxpe.json\n",
    "#print('NYC Data downloaded!')"
   ]
  },
  {
   "cell_type": "markdown",
   "metadata": {},
   "source": [
    "- Instantiate the dataframe by defining the dataframe columns **['Borough', 'Neighborhood', 'Latitude', 'Longitude']**.\n",
    "- Use the **for loop** to fill the dataframe one row at a time."
   ]
  },
  {
   "cell_type": "code",
   "execution_count": 4,
   "metadata": {},
   "outputs": [],
   "source": [
    "# define the dataframe columns\n",
    "#column_names = ['Borough', 'Neighborhood', 'Latitude', 'Longitude'] \n",
    "\n",
    "# instantiate the dataframe\n",
    "#neighborhoods = pd.DataFrame(columns=column_names)\n",
    "\n",
    "#for data in neighborhoods_data:\n",
    "#    borough = neighborhood_name = data['properties']['borough'] \n",
    "#    neighborhood_name = data['properties']['name']\n",
    "        \n",
    "#    neighborhood_latlon = data['geometry']['coordinates']\n",
    "#    neighborhood_lat = neighborhood_latlon[1]\n",
    "#    neighborhood_lon = neighborhood_latlon[0]\n",
    "    \n",
    "#    neighborhoods = neighborhoods.append({'Borough': borough,\n",
    "#                                          'Neighborhood': neighborhood_name,\n",
    "#                                          'Latitude': neighborhood_lat,\n",
    "#                                          'Longitude': neighborhood_lon}, ignore_index=True)"
   ]
  },
  {
   "cell_type": "markdown",
   "metadata": {},
   "source": [
    "- **Slice the dataframe** and create a new dataframe of only **Flushing** and the **Manhattan** data.\n",
    "- Use **geolocator.geocode() method** to get the geographical coordinates of Manhattan\n",
    "- Visualize Flushing and the neighborhoods in Manhattan using **folium method**."
   ]
  },
  {
   "cell_type": "code",
   "execution_count": 5,
   "metadata": {},
   "outputs": [],
   "source": [
    "# Slice the dataframe and create a new dataframe of only Flushing and Manhattan** data\n",
    "#fl_data = neighborhoods[neighborhoods['Neighborhood'] == 'Flushing']\n",
    "#manhattan_data = neighborhoods[neighborhoods['Borough'] == 'Manhattan'].reset_index(drop=True)\n",
    "#fl_manhattan_data = pd.concat([fl_data,manhattan_data]).reset_index(drop=True)\n",
    "#fl_manhattan_data\n",
    "\n",
    "#address = 'Manhattan, NY'\n",
    "\n",
    "#geolocator = Nominatim()\n",
    "#location = geolocator.geocode(address)\n",
    "#latitude = location.latitude\n",
    "#longitude = location.longitude\n",
    "#print('The geograpical coordinate of Manhattan are {}, {}.'.format(latitude, longitude))\n",
    "\n",
    "# create map of Manhattan using latitude and longitude values\n",
    "#map_fl_manhattan = folium.Map(location=[latitude, longitude], zoom_start=11)\n",
    "\n",
    "# add markers to map\n",
    "#for lat, lng, label in zip(fl_manhattan_data['Latitude'], fl_manhattan_data['Longitude'], fl_manhattan_data['Neighborhood']):\n",
    "#    label = folium.Popup(label, parse_html=True)\n",
    "#    folium.CircleMarker(\n",
    "#        [lat, lng],\n",
    "#        radius=5,\n",
    "#        popup=label,\n",
    "#        color='blue',\n",
    "#        fill=True,\n",
    "#        fill_color='#3186cc',\n",
    "#        fill_opacity=0.7,\n",
    "#        parse_html=False).add_to(map_fl_manhattan)  \n",
    "    \n",
    "#map_fl_manhattan"
   ]
  },
  {
   "cell_type": "markdown",
   "metadata": {},
   "source": [
    "#### (3) Foursquare Location Data.\n",
    "- Define Foursquare Credentials and Version.\n",
    "- Define function that extracts the category of the venue."
   ]
  },
  {
   "cell_type": "code",
   "execution_count": 6,
   "metadata": {},
   "outputs": [],
   "source": [
    "#CLIENT_ID = 'TCYPPRL3BT41PAGLPZBCKOQTRUTJNVISGZMJSYRCVR1NSR2I'\n",
    "#CLIENT_SECRET = 'AWH4400LSJVSZJKSTVQW0RSQTELTR3KCHKTJVMQ5UESYZJCO'\n",
    "#VERSION = '20180605'"
   ]
  },
  {
   "cell_type": "markdown",
   "metadata": {},
   "source": [
    "### 2. Explore Neighborhoods in New York City"
   ]
  },
  {
   "cell_type": "markdown",
   "metadata": {},
   "source": [
    "- Create a function by using **Foursquare API** to get top 100 venues that are in Flushing and the neighborhoods in Manhattan within a radius of 500 meters, and transform the data into dataframe with 7 columns: **[‘Neighborhood', ‘Neighborhood Latitude', ‘Neighborhood Longitude', ‘Venue’, ‘Venue Latitude', ‘Venue Longitude', ‘Venue Category’]**"
   ]
  },
  {
   "cell_type": "code",
   "execution_count": 7,
   "metadata": {},
   "outputs": [],
   "source": [
    "#def getNearbyVenues(names, latitudes, longitudes, radius=500, LIMIT = 100):\n",
    "#    \n",
    "#    venues_list=[]\n",
    "#    for name, lat, lng in zip(names, latitudes, longitudes):\n",
    "#        print(name)\n",
    "#            \n",
    "        # create the API request URL\n",
    "#        url = 'https://api.foursquare.com/v2/venues/explore?&client_id={}&client_secret={}&v={}&ll={},{}&radius={}&limit={}'.format(\n",
    "#            CLIENT_ID, \n",
    "#            CLIENT_SECRET, \n",
    "#           VERSION, \n",
    "#           lat, \n",
    "#           lng, \n",
    "#           radius, \n",
    "#           LIMIT)\n",
    "            \n",
    "        # make the GET request\n",
    "#        results = requests.get(url).json()[\"response\"]['groups'][0]['items']\n",
    "        \n",
    "        # return only relevant information for each nearby venue\n",
    "#        venues_list.append([(\n",
    "#            name, \n",
    "#            lat, \n",
    "#            lng, \n",
    "#            v['venue']['name'], \n",
    "#            v['venue']['location']['lat'], \n",
    "#            v['venue']['location']['lng'],  \n",
    "#            v['venue']['categories'][0]['name']) for v in results])\n",
    "\n",
    "#    nearby_venues = pd.DataFrame([item for venue_list in venues_list for item in venue_list])\n",
    "#    nearby_venues.columns = ['Neighborhood', \n",
    "#                  'Neighborhood Latitude', \n",
    "#                  'Neighborhood Longitude', \n",
    "#                  'Venue', \n",
    "#                  'Venue Latitude', \n",
    "#                  'Venue Longitude', \n",
    "#                  'Venue Category']\n",
    "    \n",
    "#    return(nearby_venues)"
   ]
  },
  {
   "cell_type": "markdown",
   "metadata": {},
   "source": [
    "- Run the above function on each neighborhood and create a new dataframe called **fl_manhattan_venues**."
   ]
  },
  {
   "cell_type": "code",
   "execution_count": 8,
   "metadata": {},
   "outputs": [],
   "source": [
    "#fl_manhattan_venues = getNearbyVenues(names=fl_manhattan_data['Neighborhood'],\n",
    "#                                   latitudes=fl_manhattan_data['Latitude'],\n",
    "#                                   longitudes=fl_manhattan_data['Longitude']\n",
    "#                                  )"
   ]
  },
  {
   "cell_type": "markdown",
   "metadata": {},
   "source": [
    "### 3. Analyze Each Neighborhood\n",
    "- one hot encoding"
   ]
  },
  {
   "cell_type": "code",
   "execution_count": 9,
   "metadata": {},
   "outputs": [],
   "source": [
    "# one hot encoding\n",
    "#fl_manhattan_onehot = pd.get_dummies(fl_manhattan_venues[['Venue Category']], prefix=\"\", prefix_sep=\"\")\n",
    "\n",
    "# add neighborhood column back to dataframe\n",
    "#fl_manhattan_onehot['Neighborhood'] = fl_manhattan_venues['Neighborhood'] \n",
    "\n",
    "# move neighborhood column to the first column\n",
    "#fixed_columns = [fl_manhattan_onehot.columns[-1]] + list(fl_manhattan_onehot.columns[:-1])\n",
    "#fl_manhattan_onehot = fl_manhattan_onehot[fixed_columns]"
   ]
  },
  {
   "cell_type": "markdown",
   "metadata": {},
   "source": [
    "- Group rows by neighborhood and taking the mean of the frequency of occurrence of each category."
   ]
  },
  {
   "cell_type": "code",
   "execution_count": 10,
   "metadata": {},
   "outputs": [],
   "source": [
    "# fl_manhattan_grouped = fl_manhattan_onehot.groupby('Neighborhood').mean().reset_index()"
   ]
  },
  {
   "cell_type": "markdown",
   "metadata": {},
   "source": [
    "### 4. Cluster Neighborhoods --- using **k-means clustering**"
   ]
  },
  {
   "cell_type": "markdown",
   "metadata": {},
   "source": [
    "- Set number of clusters equals to 4\n",
    "- Run k-means clustering \n",
    "- Add clustering labels\n",
    "- Visualize the resulting clusters"
   ]
  },
  {
   "cell_type": "code",
   "execution_count": 11,
   "metadata": {},
   "outputs": [],
   "source": [
    "# set number of clusters\n",
    "#kclusters = 4\n",
    "\n",
    "#fl_manhattan_grouped_clustering = fl_manhattan_grouped.drop('Neighborhood', 1)\n",
    "\n",
    "# run k-means clustering\n",
    "#kmeans = KMeans(n_clusters=kclusters, random_state=0).fit(fl_manhattan_grouped_clustering)\n",
    "\n",
    "#fl_manhattan_merged = fl_manhattan_data\n",
    "\n",
    "# add clustering labels\n",
    "#fl_manhattan_merged['Cluster Labels'] = kmeans.labels_"
   ]
  },
  {
   "cell_type": "markdown",
   "metadata": {},
   "source": [
    "- Visualize the resulting clusters using **folium method**"
   ]
  },
  {
   "cell_type": "code",
   "execution_count": 12,
   "metadata": {},
   "outputs": [],
   "source": [
    "# create map\n",
    "#map_clusters = folium.Map(location=[latitude, longitude], zoom_start=11)\n",
    "\n",
    "# set color scheme for the clusters\n",
    "#x = np.arange(kclusters)\n",
    "#ys = [i+x+(i*x)**2 for i in range(kclusters)]\n",
    "#colors_array = cm.rainbow(np.linspace(0, 1, len(ys)))\n",
    "#rainbow = [colors.rgb2hex(i) for i in colors_array]\n",
    "\n",
    "# add markers to the map\n",
    "#markers_colors = []\n",
    "#for lat, lon, poi, cluster in zip(fl_manhattan_merged['Latitude'], fl_manhattan_merged['Longitude'], fl_manhattan_merged['Neighborhood'], fl_manhattan_merged['Cluster Labels']):\n",
    "#    label = folium.Popup(str(poi) + ' Cluster ' + str(cluster), parse_html=True)\n",
    "#    folium.CircleMarker(\n",
    "#        [lat, lon],\n",
    "#        radius=5,\n",
    "#        popup=label,\n",
    "#        color=rainbow[cluster-1],\n",
    "#        fill=True,\n",
    "#        fill_color=rainbow[cluster-1],\n",
    "#        fill_opacity=0.7).add_to(map_clusters)\n",
    "       \n",
    "#map_clusters"
   ]
  },
  {
   "cell_type": "markdown",
   "metadata": {},
   "source": [
    "### 5. Examine Clusters and Find Similar Neighborhoods in Manhattan"
   ]
  },
  {
   "cell_type": "markdown",
   "metadata": {},
   "source": [
    "- Examine each cluster\n",
    "- Create a dataframe that includes all the similar neighborhoods in Manhattan as Flushing"
   ]
  },
  {
   "cell_type": "markdown",
   "metadata": {},
   "source": [
    "### 6. Rank the Similar Neighborhoods by Studio Rent Price"
   ]
  },
  {
   "cell_type": "markdown",
   "metadata": {},
   "source": [
    "- Studio Rent of Similar Neighborhoods as Flushing ranking in ascending order"
   ]
  },
  {
   "cell_type": "code",
   "execution_count": 13,
   "metadata": {},
   "outputs": [],
   "source": [
    "#pd.concat([manhattan_cluster4, df_rent], axis=1, join='inner')\n",
    "#cluster4_rent = pd.merge(manhattan_cluster4, df_rent,  how='left', left_on=['Neighborhood'], right_on = ['Neighborhood']).dropna()\n",
    "#cluster4_rent_asc = cluster4_rent.sort_values('Studio Rent', axis=0, ascending = 'True').reset_index(drop=True)\n",
    "#cluster4_rent_asc"
   ]
  },
  {
   "cell_type": "markdown",
   "metadata": {},
   "source": [
    "- Return the Similar neighborhood in Manhattan as Flushing with Lowest Studio Rental price"
   ]
  },
  {
   "cell_type": "code",
   "execution_count": 14,
   "metadata": {},
   "outputs": [],
   "source": [
    "#print('The similar neighborhood in Manhattan as Flushing with Lowest Studio Rental Price: ', cluster4_rent_asc.iloc[0]['Neighborhood'])\n",
    "#print('The Average Rental Price in ', cluster4_rent_asc.iloc[0]['Neighborhood'], ': $', cluster4_rent_asc.iloc[0]['Studio Rent'])"
   ]
  },
  {
   "cell_type": "markdown",
   "metadata": {},
   "source": [
    "## D. Results"
   ]
  },
  {
   "cell_type": "markdown",
   "metadata": {},
   "source": [
    "#### 1. Here is the clustering map of Flushing and Manhattan after running k-means clustering."
   ]
  },
  {
   "cell_type": "markdown",
   "metadata": {},
   "source": [
    "![Cluster_map](https://raw.githubusercontent.com/yiyaoma/Coursera_Capstone/master/cluster%20map.png)"
   ]
  },
  {
   "cell_type": "markdown",
   "metadata": {},
   "source": [
    "#### 2. Examining each cluster, we can see that Flushing, Queens is in Cluster 4 (['Cluster Labels'] == 3)."
   ]
  },
  {
   "cell_type": "markdown",
   "metadata": {},
   "source": [
    "![cluster4_table](https://raw.githubusercontent.com/yiyaoma/Coursera_Capstone/master/cluster4_table.png)"
   ]
  },
  {
   "cell_type": "markdown",
   "metadata": {},
   "source": [
    "#### 3. Let's create a dataframe that includes all the neighborhoods in Manhattan in Cluster4. "
   ]
  },
  {
   "cell_type": "markdown",
   "metadata": {},
   "source": [
    "![cluster4_neighborhoods](https://raw.githubusercontent.com/yiyaoma/Coursera_Capstone/master/cluster4_neighborhoods.png)"
   ]
  },
  {
   "cell_type": "markdown",
   "metadata": {},
   "source": [
    "#### 4. Let's check the average Studio Rent of similar neighborhoods ranking in ascending order. \n",
    "#### We can see that **Washington Heights** has the **lowest Studio Rent in the Cluster 4**.\n",
    "*Note: Because the rent dataset doesn't include the rent data of all the neighborhoods, some neighborhoods such as Manhattanville, Upper East Side, Clinton do not have rent data for analysis. To simplify the process, we simply delete those neighborhoods which means that Jack Lee won't choose from those neighborhoods."
   ]
  },
  {
   "cell_type": "markdown",
   "metadata": {},
   "source": [
    "![cluster4_withrent](https://raw.githubusercontent.com/yiyaoma/Coursera_Capstone/master/cluster4_with%20rent.png)"
   ]
  },
  {
   "cell_type": "markdown",
   "metadata": {},
   "source": [
    "## E. Discussion"
   ]
  },
  {
   "cell_type": "markdown",
   "metadata": {},
   "source": [
    "As we can see from the results above: **The similar neighborhood in Manhattan as Flushing with Lowest Studio Rental price is Washington Heights** with studio rent of $1678."
   ]
  },
  {
   "cell_type": "markdown",
   "metadata": {},
   "source": [
    "From the **Cluster 4** table as shown below, we can see that both **Washington Heights** and **Flushing** have many various kinds of restaurants such as Chinese restaurant, Asian restaurant, Bakeries and etc which makes **those two similar to each other in regarding to venue categories** and thus are in the same Cluster. And probably the main reason that Jack Lee enjoys living in Flushing is due to such many diversified restaurants especially Chinese restaurants as he was originally from China, which makes a lot of sense.\n",
    "\n",
    "In the meantime, as Jack just graduated and has to pay back student loans, he needs to be frugal about his living expenses. Therefore he needs to rent a studio in a neighborhood that has the lowest average rental price. **According to the *rentcafe*(https://www.rentcafe.com/average-rent-market-trends/us/ny/manhattan/), among the available average rent data for studio by neighborhood in Manhattan, the lowest rent is $1678 and is in Washington Heights**."
   ]
  },
  {
   "cell_type": "markdown",
   "metadata": {},
   "source": [
    "![cluster4_table](https://raw.githubusercontent.com/yiyaoma/Coursera_Capstone/master/cluster4_table.png)"
   ]
  },
  {
   "cell_type": "markdown",
   "metadata": {},
   "source": [
    "## F. Conclusion"
   ]
  },
  {
   "cell_type": "markdown",
   "metadata": {},
   "source": [
    "### **Conclusion:**\n",
    "\n",
    "Based on the analysis and results shown above, **we conclude that the similar neighborhood in Manhattan as Flushing with Lowest Studio Rental price is Washington Heights with studio rent of 1678 USD.**"
   ]
  },
  {
   "cell_type": "markdown",
   "metadata": {},
   "source": [
    "**Therefore, we recommend Jack Lee to rent a studio in Washington Heights because it meets his two requirements:**\n",
    "\n",
    "- (1) Washington Heights has the similar neighborhoods/venues and facilities as Flushing, and\n",
    "\n",
    "- (2) Washington Heights has the lowest average rent price for studio among the similar neighborhoods."
   ]
  },
  {
   "cell_type": "markdown",
   "metadata": {},
   "source": [
    "### **Further Possible Developments:**"
   ]
  },
  {
   "cell_type": "markdown",
   "metadata": {},
   "source": [
    "#### Due to some limitations, there are several areas that could be developed or improved in the future research:"
   ]
  },
  {
   "cell_type": "markdown",
   "metadata": {},
   "source": [
    "- **(1) Use DBSCAN (Density-based spatial clustering of applications with noise) as the machine learning method to cluster neighborhoods for further studies.** In this project, we use traditional K-Means clustering to group data in an unsupervised way. However, when applied to tasks with arbitrary shaped clusters or clusters within clusters, traditional techniques might not be able to achieve good results that is, elements in the same cluster might not share enough similarity or the performance may be poor. Additionally, while partitioning based algorithms such as K-Means may be easy to understand and implement in practice, the algorithm has no notion of outliers that is, all points are assigned to a cluster even if they do not belong in any. Therefore, in the future research, we may want to apply DBSCAN model to analyze clusters."
   ]
  },
  {
   "cell_type": "markdown",
   "metadata": {},
   "source": [
    "- **(2) Find more completed rent dataset that includes the average rental costs of all neighborhoods.** In this project, due to the some limitations, we extract rent data from *rentcafe* (https://www.rentcafe.com/average-rent-market-trends/us/ny/manhattan/) which doesn't include all the neighborhoods in Manhattan. To further improve the project in the future, we can improve our dataset."
   ]
  }
 ],
 "metadata": {
  "kernelspec": {
   "display_name": "Python 3",
   "language": "python",
   "name": "python3"
  },
  "language_info": {
   "codemirror_mode": {
    "name": "ipython",
    "version": 3
   },
   "file_extension": ".py",
   "mimetype": "text/x-python",
   "name": "python",
   "nbconvert_exporter": "python",
   "pygments_lexer": "ipython3",
   "version": "3.6.5"
  }
 },
 "nbformat": 4,
 "nbformat_minor": 2
}
